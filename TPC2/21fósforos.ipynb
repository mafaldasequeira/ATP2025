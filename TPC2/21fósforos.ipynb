{
 "cells": [
  {
   "cell_type": "code",
   "execution_count": null,
   "id": "7645376d",
   "metadata": {},
   "outputs": [],
   "source": [
    "#Jogo dos fósforos\n",
    "import random\n",
    "introdução=input(\"Olá! Deseja ser o primeiro a começar o jogo?\")\n",
    "\n",
    "if introdução==\"S\" or introdução==\"s\" or introdução==\"Sim\" or introdução==\"sim\":\n",
    "    n=21\n",
    "    while n>1:\n",
    "        n1=int (input(\"Quantos números gostaria de subtrair? De 1 a 4?\"))\n",
    "        if 1<=n1<=4:\n",
    "            n=n-n1\n",
    "            print (\"Tiraste\", n1, \"fósforos, logo restam agora\", n,\"fósforos!\")\n",
    "            computador=int(5-n1)\n",
    "            n=n-computador\n",
    "            print (\"O computador decidiu retirar\", computador, \"e restam agora\", n, \"fósforos!\")\n",
    "            if n==1:\n",
    "                print (\"Perdeste o jogo!!\")\n",
    "        elif n1<1 or n1>4:\n",
    "            print (\"Assim não vale!\")\n",
    "\n",
    "elif introdução==\"N\" or introdução==\"n\" or introdução==\"Não\" or introdução==\"não\": \n",
    "    n=21\n",
    "    computador=(random.randint(1,4))\n",
    "    n=n-computador\n",
    "    print (\"Ok, o computador decidiu retirar\", computador, \"e restam agora\", n, \"fósforos!\")\n",
    "\n",
    "    while n>1:\n",
    "        n1=int(input(\"Quantos desejas retirar agora? De 1 a 4.\"))\n",
    "        if 1<=n1<=4:\n",
    "            n=n-n1\n",
    "            print (\"Tiraste\", n1, \"fósforos, logo restam agora\", n,\"fósforos!\")\n",
    "            if n>5:\n",
    "                computador=n%5\n",
    "                if computador==0:\n",
    "                    computador=(random.randint(1,4))\n",
    "                n=n-computador\n",
    "                print (\"Ok, o computador decidiu retirar\", computador, \"e restam agora\", n, \"fósforos!\")\n",
    "            elif 1<n<=5:\n",
    "                computador=n-1\n",
    "                n=n-computador\n",
    "                print (\"Ok, o computador decidiu retirar\", computador, \"e restam agora\", n, \"fósforos!\")\n",
    "                print(\"Perdeste!\")\n",
    "            elif n==1:\n",
    "                print(\"Ganhaste!\")\n",
    "        elif n1<1 or n1>4:\n",
    "            print (\"Assim não vale!\")\n",
    "            "
   ]
  }
 ],
 "metadata": {
  "kernelspec": {
   "display_name": "Python 3",
   "language": "python",
   "name": "python3"
  },
  "language_info": {
   "codemirror_mode": {
    "name": "ipython",
    "version": 3
   },
   "file_extension": ".py",
   "mimetype": "text/x-python",
   "name": "python",
   "nbconvert_exporter": "python",
   "pygments_lexer": "ipython3",
   "version": "3.13.7"
  }
 },
 "nbformat": 4,
 "nbformat_minor": 5
}
